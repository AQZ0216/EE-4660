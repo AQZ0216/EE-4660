{
 "cells": [
  {
   "cell_type": "markdown",
   "metadata": {
    "id": "hZTUGFwrjWrX"
   },
   "source": [
    "# Initial setup\n",
    "- We will use the following libraries in this homework:\n",
    "\n",
    "    - numpy\n",
    "\n",
    "    - matplotlib\n",
    "\n",
    "  If you want to run the code on your computer,  please install the requirement libraries by typing the following commend line in you terminal.\n",
    "\n",
    "```\n",
    "pip install [library_name] \n",
    "```\n",
    "\n",
    "\n",
    "\n"
   ]
  },
  {
   "cell_type": "code",
   "execution_count": 1,
   "metadata": {
    "id": "Kh6jwNCKgkGA"
   },
   "outputs": [
    {
     "name": "stderr",
     "output_type": "stream",
     "text": [
      "C:\\Users\\user\\Anaconda3\\lib\\site-packages\\numpy\\_distributor_init.py:32: UserWarning: loaded more than 1 DLL from .libs:\n",
      "C:\\Users\\user\\Anaconda3\\lib\\site-packages\\numpy\\.libs\\libopenblas.NOIJJG62EMASZI6NYURL6JBKM4EVBGM7.gfortran-win_amd64.dll\n",
      "C:\\Users\\user\\Anaconda3\\lib\\site-packages\\numpy\\.libs\\libopenblas.PYQHXLVVQ7VESDPUVUADXEVJOBGHJPAY.gfortran-win_amd64.dll\n",
      "  stacklevel=1)\n"
     ]
    }
   ],
   "source": [
    "import numpy as np\n",
    "import numpy.random as rd\n",
    "import matplotlib.pyplot as plt"
   ]
  },
  {
   "cell_type": "markdown",
   "metadata": {
    "id": "vLk89zW8hemt"
   },
   "source": [
    "#Building environment\n",
    "\n",
    "In this homework, we are going to implement a 6-armed bandit problem with mean:\n",
    "\n",
    "$q_*(1)$ |$q_*(2)$ |$q_*(3)$ |$q_*(4)$ |$q_*(5)$ |$q_*(6)$  \n",
    ":--:|:--:|:--:|:--:|:--:|:--:\n",
    "0.3|-5|5|-1.1|1|0\n",
    "<img width=50/>|<img width=50/>|<img width=50/>|<img width=50/>|<img width=50/>|<img width=50/>|\n",
    "\n",
    "  When you chooce the $n^{th}$ bandit , the reward should be given by a normal distribution with mean $q_∗(n)$ and variance 1.\n",
    "\n"
   ]
  },
  {
   "cell_type": "code",
   "execution_count": 2,
   "metadata": {
    "id": "NBGK49UVtBrc"
   },
   "outputs": [],
   "source": [
    "class bandit:\n",
    "\n",
    "  # initialize the means and variance of the bandit\n",
    "  def __init__(self, mean=[0.3, -5, 5, -1.1, 1, 0], variance = 1):\n",
    "    self.mean = mean\n",
    "    self.banditNums = len(mean)\n",
    "    self.variance = variance\n",
    "\n",
    "  #give a action, recieve a reward\n",
    "  def step(self, action):\n",
    "\n",
    "    # where action is the chosen bandit (i.e. action is between 0~5)\n",
    "    # To return a number from a normal distribution, you might want to call the function rd.normal().\n",
    "    \n",
    "    ######## your code here ##########\n",
    "    reward = rd.normal(self.mean[action], self.variance)\n",
    "\n",
    "\n",
    "\n",
    "    ######################################\n",
    "\n",
    "    return reward\n"
   ]
  },
  {
   "cell_type": "markdown",
   "metadata": {
    "id": "pLGourwD6M-1"
   },
   "source": [
    "#implement learing process\n",
    "\n",
    "The learning process in this homework is relatively simple:\n",
    "1. Choose an action:\n",
    "  \n",
    "  Generally speaking, it is better to always choose the best option, but in order to keep the exploration going, we sometimes choose random action with a probability of $\\epsilon$.\n",
    "\n",
    "2. Update the action values:\n",
    "\n",
    "  After receiving the reward, we will update the action value. In this homework we simply use the average reward as the the action value. Try using the following relationship when updating.\n",
    "\n",
    "  $NewEstimate\\leftarrow OleEstimate + StepSize\\bigg[Target - OldEstimate\\bigg].$\n",
    "\n",
    "  $Q_{n+1} = 1/n\\times\\bigg[R_n - Q_n\\bigg]$\n"
   ]
  },
  {
   "cell_type": "code",
   "execution_count": 3,
   "metadata": {
    "id": "HxM7xB0zwIv1"
   },
   "outputs": [],
   "source": [
    "class learning:\n",
    "\n",
    "\n",
    "  def __init__(self):\n",
    "    self.env = bandit()\n",
    "    self.actionValues = [0,0,0,0,0,0]\n",
    "    self.chosenTimes = [0,0,0,0,0,0]\n",
    "\n",
    "  def chooseAction(self, epsilon):\n",
    "    \n",
    "    # To generate random numbers, check out rd.random() and rd.randint().\n",
    "    # And to find the action with maximum value (from self.actionValues), you can use np.argmax().\n",
    "\n",
    "    ######## your code here ##########\n",
    "    prob = rd.random()\n",
    "    \n",
    "    if prob < epsilon:\n",
    "        action = rd.randint(self.env.banditNums)\n",
    "    else:\n",
    "        action = rd.choice(np.flatnonzero(self.actionValues == np.amax(self.actionValues)))\n",
    "\n",
    "    ######################################\n",
    "    return action\n",
    "\n",
    "  def updateValue(self, action, reward):\n",
    "\n",
    "    # This is how many times you have chosen this action.\n",
    "\n",
    "    self.chosenTimes[action] +=1\n",
    "\n",
    "    # Now, update the action value(self.actionValues[action]) with the average reward of this action.\n",
    "\n",
    "    ######## your code here ##########\n",
    "    self.actionValues[action] += (reward-self.actionValues[action])/self.chosenTimes[action]\n",
    "\n",
    "\n",
    "    ######################################\n",
    "\n",
    "  def run(self, steps, epsilon):\n",
    "    self.actionValues = [0,0,0,0,0,0]\n",
    "    self.chosenTimes = [0,0,0,0,0,0]\n",
    "    averageRewards = []\n",
    "    rewards = []\n",
    "    for _ in range(steps):\n",
    "      action = self.chooseAction(epsilon)\n",
    "      reward = self.env.step(action)\n",
    "      rewards.append(reward)\n",
    "      averageRewards.append(np.average(rewards))\n",
    "      self.updateValue(action, reward)\n",
    "    \n",
    "    return rewards, averageRewards"
   ]
  },
  {
   "cell_type": "markdown",
   "metadata": {
    "id": "EwYQ6-FuKTyE"
   },
   "source": [
    "# Test your results\n",
    "- We will use 'matplotlib' to visualize the result. For more information, click on the [LINK](https://matplotlib.org/2.0.2/api/pyplot_api.html) to see the documentation or search tutorials online."
   ]
  },
  {
   "cell_type": "code",
   "execution_count": 4,
   "metadata": {
    "colab": {
     "base_uri": "https://localhost:8080/",
     "height": 265
    },
    "id": "Y_2M5-U32bJy",
    "outputId": "e28cf2a5-f5a7-47cf-e832-edb90b9ead2f"
   },
   "outputs": [
    {
     "data": {
      "image/png": "[encoded data removed]",
      "text/plain": [
       "<Figure size 432x288 with 1 Axes>"
      ]
     },
     "metadata": {
      "needs_background": "light"
     },
     "output_type": "display_data"
    }
   ],
   "source": [
    "HW1 = learning()\n",
    "\n",
    "# You might want to modify the following code to get different figure for the report.\n",
    "result_0 = []\n",
    "result_1 = []\n",
    "result_2 = []\n",
    "for _ in range(30):\n",
    "    _, averageRewards = HW1.run(steps = 1000, epsilon = 0)\n",
    "    result_0.append(averageRewards)\n",
    "    _, averageRewards = HW1.run(steps = 1000, epsilon = 0.2)\n",
    "    result_1.append(averageRewards)\n",
    "    _, averageRewards = HW1.run(steps = 1000, epsilon = 0.8)\n",
    "    result_2.append(averageRewards)\n",
    "result_0 = np.mean(result_0, axis=0)\n",
    "result_1 = np.mean(result_1, axis=0)\n",
    "result_2 = np.mean(result_2, axis=0)\n",
    "plt.figure()\n",
    "plt.plot(result_0, label=r'$\\epsilon = 0$')\n",
    "plt.plot(result_1, label=r'$\\epsilon = 0.2$')\n",
    "plt.plot(result_2, label=r'$\\epsilon = 0.8$')\n",
    "plt.legend()\n",
    "plt.savefig(\"result.png\")\n",
    "plt.show()\n"
   ]
  },
  {
   "cell_type": "code",
   "execution_count": null,
   "metadata": {},
   "outputs": [],
   "source": []
  }
 ],
 "metadata": {
  "colab": {
   "collapsed_sections": [],
   "name": "HW1.ipynb",
   "provenance": []
  },
  "kernelspec": {
   "display_name": "Python 3",
   "language": "python",
   "name": "python3"
  },
  "language_info": {
   "codemirror_mode": {
    "name": "ipython",
    "version": 3
   },
   "file_extension": ".py",
   "mimetype": "text/x-python",
   "name": "python",
   "nbconvert_exporter": "python",
   "pygments_lexer": "ipython3",
   "version": "3.6.10"
  }
 },
 "nbformat": 4,
 "nbformat_minor": 1
}
